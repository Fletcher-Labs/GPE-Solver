{
  "nbformat": 4,
  "nbformat_minor": 0,
  "metadata": {
    "colab": {
      "name": "DipolarGPE.ipynb",
      "provenance": [],
      "collapsed_sections": []
    },
    "kernelspec": {
      "name": "python3",
      "display_name": "Python 3"
    },
    "language_info": {
      "name": "python"
    }
  },
  "cells": [
    {
      "cell_type": "markdown",
      "metadata": {
        "id": "wOfJUtmPKnHq"
      },
      "source": [
        "GIT import inspired by Biswaroop's F3 notebooks, trying to port over to an existing DGPE sim package. https://www.pi5.uni-stuttgart.de/documents/abgeschlossene-arbeiten/2018-Wenzel-Matthias-Macroscopic-States-of-Dipolar-Quantum-Gases-PhD.pdf"
      ]
    },
    {
      "cell_type": "code",
      "metadata": {
        "id": "n8bt-JqhW-YT"
      },
      "source": [
        "import os\n",
        "import sys\n",
        "sys.path.append(os.path.abspath('..'))\n",
        "import numpy as np\n",
        "import matplotlib.pyplot as plt\n",
        "from tqdm.notebook import tqdm\n",
        "from copy import copy, deepcopy\n",
        "from IPython.display import HTML\n",
        "from base64 import b64encode\n",
        "\n",
        "def show_video(filename='output.mp4'):\n",
        "  mp4 = open(filename,'rb').read()\n",
        "  data_url = \"data:video/mp4;base64,\" + b64encode(mp4).decode()\n",
        "  return HTML(\"\"\"\n",
        "  <video width=400 controls>\n",
        "        <source src=\"%s\" type=\"video/mp4\">\n",
        "  </video>\n",
        "  \"\"\" % data_url)\n",
        "\n",
        "########################################################\n",
        "\n",
        "from scipy import ndimage\n",
        "import pandas as pd\n",
        "from scipy.optimize import curve_fit\n",
        "import scipy.misc\n",
        "import scipy.constants as cst\n",
        "from scipy import signal\n",
        "from mpl_toolkits.axes_grid1.anchored_artists import AnchoredSizeBar\n",
        "import skimage\n",
        "from skimage.feature import blob_dog, blob_log, blob_doh\n",
        "import math\n",
        "import scipy.misc\n",
        "from scipy import signal\n",
        "from skimage.restoration import unwrap_phase\n",
        "import skimage.filters\n",
        "import matplotlib.animation as animation\n",
        "from skimage.filters.rank import median\n",
        "from random import random\n",
        "import copy\n",
        "import pickle\n",
        "from functools import reduce\n",
        "import operator\n",
        "from google.colab import drive\n",
        "\n"
      ],
      "execution_count": 1,
      "outputs": []
    },
    {
      "cell_type": "code",
      "metadata": {
        "colab": {
          "base_uri": "https://localhost:8080/"
        },
        "id": "-oOvHqgbLCoA",
        "outputId": "bf86d76b-2690-405f-c934-787ff1b19aa3"
      },
      "source": [
        "\n",
        "path = \"/content\"\n",
        "os.chdir(path)\n",
        "\n",
        "if os.path.exists('/content/GPE-Solver/gpe/build/'):\n",
        "  print('Codebase already loaded')\n",
        "else:\n",
        "  print('Loading codebase...')\n",
        "  !git clone https://github.com/Fletcher-Labs/GPE-Solver.git\n",
        "  %cd GPE-Solver/gpe\n",
        "  !apt-get update #new\n",
        "  !apt-get install libfftw3-dev #new\n",
        "  !apt-get install -qq libglew-dev swig. \n",
        "  !ln -sf /usr/local/lib/python3.7/dist-packages/numpy/core/include/numpy /usr/include/numpy\n",
        "  #!mkdir build\n",
        "  #!./build.sh\n",
        "%cd '/content/GPE-Solver/gpe'\n",
        "!make \n",
        "print('Ready.')"
      ],
      "execution_count": 2,
      "outputs": [
        {
          "output_type": "stream",
          "name": "stdout",
          "text": [
            "Loading codebase...\n",
            "Cloning into 'GPE-Solver'...\n",
            "remote: Enumerating objects: 133, done.\u001b[K\n",
            "remote: Counting objects: 100% (15/15), done.\u001b[K\n",
            "remote: Compressing objects: 100% (15/15), done.\u001b[K\n",
            "remote: Total 133 (delta 6), reused 0 (delta 0), pack-reused 118\u001b[K\n",
            "Receiving objects: 100% (133/133), 1.42 MiB | 5.77 MiB/s, done.\n",
            "Resolving deltas: 100% (57/57), done.\n",
            "/content/GPE-Solver/gpe\n",
            "Get:1 https://cloud.r-project.org/bin/linux/ubuntu bionic-cran40/ InRelease [3,626 B]\n",
            "Ign:2 https://developer.download.nvidia.com/compute/cuda/repos/ubuntu1804/x86_64  InRelease\n",
            "Get:3 http://ppa.launchpad.net/c2d4u.team/c2d4u4.0+/ubuntu bionic InRelease [15.9 kB]\n",
            "Get:4 http://security.ubuntu.com/ubuntu bionic-security InRelease [88.7 kB]\n",
            "Ign:5 https://developer.download.nvidia.com/compute/machine-learning/repos/ubuntu1804/x86_64  InRelease\n",
            "Get:6 https://developer.download.nvidia.com/compute/cuda/repos/ubuntu1804/x86_64  Release [696 B]\n",
            "Hit:7 http://archive.ubuntu.com/ubuntu bionic InRelease\n",
            "Hit:8 https://developer.download.nvidia.com/compute/machine-learning/repos/ubuntu1804/x86_64  Release\n",
            "Get:9 https://developer.download.nvidia.com/compute/cuda/repos/ubuntu1804/x86_64  Release.gpg [836 B]\n",
            "Get:10 http://archive.ubuntu.com/ubuntu bionic-updates InRelease [88.7 kB]\n",
            "Hit:11 http://ppa.launchpad.net/cran/libgit2/ubuntu bionic InRelease\n",
            "Get:12 https://cloud.r-project.org/bin/linux/ubuntu bionic-cran40/ Packages [73.0 kB]\n",
            "Hit:13 http://ppa.launchpad.net/deadsnakes/ppa/ubuntu bionic InRelease\n",
            "Get:14 http://archive.ubuntu.com/ubuntu bionic-backports InRelease [74.6 kB]\n",
            "Hit:15 http://ppa.launchpad.net/graphics-drivers/ppa/ubuntu bionic InRelease\n",
            "Get:17 https://developer.download.nvidia.com/compute/cuda/repos/ubuntu1804/x86_64  Packages [808 kB]\n",
            "Get:18 http://ppa.launchpad.net/c2d4u.team/c2d4u4.0+/ubuntu bionic/main Sources [1,812 kB]\n",
            "Get:19 http://security.ubuntu.com/ubuntu bionic-security/main amd64 Packages [2,430 kB]\n",
            "Get:20 http://ppa.launchpad.net/c2d4u.team/c2d4u4.0+/ubuntu bionic/main amd64 Packages [928 kB]\n",
            "Get:21 http://archive.ubuntu.com/ubuntu bionic-updates/restricted amd64 Packages [699 kB]\n",
            "Get:22 http://security.ubuntu.com/ubuntu bionic-security/restricted amd64 Packages [666 kB]\n",
            "Get:23 http://security.ubuntu.com/ubuntu bionic-security/multiverse amd64 Packages [26.8 kB]\n",
            "Get:24 http://security.ubuntu.com/ubuntu bionic-security/universe amd64 Packages [1,439 kB]\n",
            "Get:25 http://archive.ubuntu.com/ubuntu bionic-updates/main amd64 Packages [2,868 kB]\n",
            "Get:26 http://archive.ubuntu.com/ubuntu bionic-updates/universe amd64 Packages [2,220 kB]\n",
            "Get:27 http://archive.ubuntu.com/ubuntu bionic-updates/multiverse amd64 Packages [34.4 kB]\n",
            "Fetched 14.3 MB in 5s (2,821 kB/s)\n",
            "Reading package lists... Done\n",
            "Reading package lists... Done\n",
            "Building dependency tree       \n",
            "Reading state information... Done\n",
            "The following additional packages will be installed:\n",
            "  libfftw3-bin libfftw3-long3 libfftw3-quad3 libfftw3-single3\n",
            "Suggested packages:\n",
            "  libfftw3-doc\n",
            "The following NEW packages will be installed:\n",
            "  libfftw3-bin libfftw3-dev libfftw3-long3 libfftw3-quad3 libfftw3-single3\n",
            "0 upgraded, 5 newly installed, 0 to remove and 61 not upgraded.\n",
            "Need to get 3,766 kB of archives.\n",
            "After this operation, 21.2 MB of additional disk space will be used.\n",
            "Get:1 http://archive.ubuntu.com/ubuntu bionic/main amd64 libfftw3-long3 amd64 3.3.7-1 [308 kB]\n",
            "Get:2 http://archive.ubuntu.com/ubuntu bionic/main amd64 libfftw3-quad3 amd64 3.3.7-1 [552 kB]\n",
            "Get:3 http://archive.ubuntu.com/ubuntu bionic/main amd64 libfftw3-single3 amd64 3.3.7-1 [764 kB]\n",
            "Get:4 http://archive.ubuntu.com/ubuntu bionic/main amd64 libfftw3-bin amd64 3.3.7-1 [32.7 kB]\n",
            "Get:5 http://archive.ubuntu.com/ubuntu bionic/main amd64 libfftw3-dev amd64 3.3.7-1 [2,108 kB]\n",
            "Fetched 3,766 kB in 1s (3,232 kB/s)\n",
            "Selecting previously unselected package libfftw3-long3:amd64.\n",
            "(Reading database ... 155219 files and directories currently installed.)\n",
            "Preparing to unpack .../libfftw3-long3_3.3.7-1_amd64.deb ...\n",
            "Unpacking libfftw3-long3:amd64 (3.3.7-1) ...\n",
            "Selecting previously unselected package libfftw3-quad3:amd64.\n",
            "Preparing to unpack .../libfftw3-quad3_3.3.7-1_amd64.deb ...\n",
            "Unpacking libfftw3-quad3:amd64 (3.3.7-1) ...\n",
            "Selecting previously unselected package libfftw3-single3:amd64.\n",
            "Preparing to unpack .../libfftw3-single3_3.3.7-1_amd64.deb ...\n",
            "Unpacking libfftw3-single3:amd64 (3.3.7-1) ...\n",
            "Selecting previously unselected package libfftw3-bin.\n",
            "Preparing to unpack .../libfftw3-bin_3.3.7-1_amd64.deb ...\n",
            "Unpacking libfftw3-bin (3.3.7-1) ...\n",
            "Selecting previously unselected package libfftw3-dev:amd64.\n",
            "Preparing to unpack .../libfftw3-dev_3.3.7-1_amd64.deb ...\n",
            "Unpacking libfftw3-dev:amd64 (3.3.7-1) ...\n",
            "Setting up libfftw3-quad3:amd64 (3.3.7-1) ...\n",
            "Setting up libfftw3-single3:amd64 (3.3.7-1) ...\n",
            "Setting up libfftw3-long3:amd64 (3.3.7-1) ...\n",
            "Setting up libfftw3-bin (3.3.7-1) ...\n",
            "Setting up libfftw3-dev:amd64 (3.3.7-1) ...\n",
            "Processing triggers for libc-bin (2.27-3ubuntu1.3) ...\n",
            "/sbin/ldconfig.real: /usr/local/lib/python3.7/dist-packages/ideep4py/lib/libmkldnn.so.0 is not a symbolic link\n",
            "\n",
            "Processing triggers for man-db (2.8.3-2ubuntu0.1) ...\n",
            "Selecting previously unselected package libsuitesparseconfig5:amd64.\n",
            "(Reading database ... 155310 files and directories currently installed.)\n",
            "Preparing to unpack .../00-libsuitesparseconfig5_1%3a5.1.2-2_amd64.deb ...\n",
            "Unpacking libsuitesparseconfig5:amd64 (1:5.1.2-2) ...\n",
            "Selecting previously unselected package libamd2:amd64.\n",
            "Preparing to unpack .../01-libamd2_1%3a5.1.2-2_amd64.deb ...\n",
            "Unpacking libamd2:amd64 (1:5.1.2-2) ...\n",
            "Selecting previously unselected package libcolamd2:amd64.\n",
            "Preparing to unpack .../02-libcolamd2_1%3a5.1.2-2_amd64.deb ...\n",
            "Unpacking libcolamd2:amd64 (1:5.1.2-2) ...\n",
            "Selecting previously unselected package libglew2.0:amd64.\n",
            "Preparing to unpack .../03-libglew2.0_2.0.0-5_amd64.deb ...\n",
            "Unpacking libglew2.0:amd64 (2.0.0-5) ...\n",
            "Selecting previously unselected package libglew-dev:amd64.\n",
            "Preparing to unpack .../04-libglew-dev_2.0.0-5_amd64.deb ...\n",
            "Unpacking libglew-dev:amd64 (2.0.0-5) ...\n",
            "Selecting previously unselected package libglpk40:amd64.\n",
            "Preparing to unpack .../05-libglpk40_4.65-1_amd64.deb ...\n",
            "Unpacking libglpk40:amd64 (4.65-1) ...\n",
            "Selecting previously unselected package python-swiglpk.\n",
            "Preparing to unpack .../06-python-swiglpk_1.4.4-2_amd64.deb ...\n",
            "Unpacking python-swiglpk (1.4.4-2) ...\n",
            "Selecting previously unselected package python3-swiglpk.\n",
            "Preparing to unpack .../07-python3-swiglpk_1.4.4-2_amd64.deb ...\n",
            "Unpacking python3-swiglpk (1.4.4-2) ...\n",
            "Selecting previously unselected package swig3.0-doc.\n",
            "Preparing to unpack .../08-swig3.0-doc_3.0.12-1_all.deb ...\n",
            "Unpacking swig3.0-doc (3.0.12-1) ...\n",
            "Selecting previously unselected package swig-doc.\n",
            "Preparing to unpack .../09-swig-doc_3.0.12-1_all.deb ...\n",
            "Unpacking swig-doc (3.0.12-1) ...\n",
            "Selecting previously unselected package swig3.0.\n",
            "Preparing to unpack .../10-swig3.0_3.0.12-1_amd64.deb ...\n",
            "Unpacking swig3.0 (3.0.12-1) ...\n",
            "Selecting previously unselected package swig3.0-examples.\n",
            "Preparing to unpack .../11-swig3.0-examples_3.0.12-1_all.deb ...\n",
            "Unpacking swig3.0-examples (3.0.12-1) ...\n",
            "Selecting previously unselected package swig-examples.\n",
            "Preparing to unpack .../12-swig-examples_3.0.12-1_all.deb ...\n",
            "Unpacking swig-examples (3.0.12-1) ...\n",
            "Selecting previously unselected package swig-sphinxbase.\n",
            "Preparing to unpack .../13-swig-sphinxbase_0.8+5prealpha+1-1_all.deb ...\n",
            "Unpacking swig-sphinxbase (0.8+5prealpha+1-1) ...\n",
            "Setting up swig3.0 (3.0.12-1) ...\n",
            "Setting up swig3.0-doc (3.0.12-1) ...\n",
            "Setting up swig-sphinxbase (0.8+5prealpha+1-1) ...\n",
            "Setting up swig3.0-examples (3.0.12-1) ...\n",
            "Setting up libsuitesparseconfig5:amd64 (1:5.1.2-2) ...\n",
            "Setting up libcolamd2:amd64 (1:5.1.2-2) ...\n",
            "Setting up libglew2.0:amd64 (2.0.0-5) ...\n",
            "Setting up swig-doc (3.0.12-1) ...\n",
            "Setting up libglew-dev:amd64 (2.0.0-5) ...\n",
            "Setting up swig-examples (3.0.12-1) ...\n",
            "Setting up libamd2:amd64 (1:5.1.2-2) ...\n",
            "Setting up libglpk40:amd64 (4.65-1) ...\n",
            "Setting up python3-swiglpk (1.4.4-2) ...\n",
            "Setting up python-swiglpk (1.4.4-2) ...\n",
            "Processing triggers for man-db (2.8.3-2ubuntu0.1) ...\n",
            "Processing triggers for libc-bin (2.27-3ubuntu1.3) ...\n",
            "/sbin/ldconfig.real: /usr/local/lib/python3.7/dist-packages/ideep4py/lib/libmkldnn.so.0 is not a symbolic link\n",
            "\n",
            "/content/GPE-Solver/gpe\n",
            "g++ -O3 --std=c++0x -g -Wall -fPIC -I\"/usr/include/python3.7\" -fmessage-length=0      -c -o GPEPython.o GPEPython.cpp\n",
            "g++ -O3 --std=c++0x -g -Wall -fPIC -I\"/usr/include/python3.7\" -fmessage-length=0      -c -o SimulationParameters.o SimulationParameters.cpp\n",
            "g++ -O3 --std=c++0x -g -Wall -fPIC -I\"/usr/include/python3.7\" -fmessage-length=0      -c -o Field.o Field.cpp\n",
            "g++ -O3 --std=c++0x -g -Wall -fPIC -I\"/usr/include/python3.7\" -fmessage-length=0      -c -o Array.o Array.cpp\n",
            "\u001b[01m\u001b[KArray.cpp:28:0:\u001b[m\u001b[K \u001b[01;35m\u001b[Kwarning: \u001b[m\u001b[Kignoring #pragma omp parallel [\u001b[01;35m\u001b[K-Wunknown-pragmas\u001b[m\u001b[K]\n",
            " #pragma omp parallel for private(i, j, k)\n",
            " \n",
            "\u001b[01m\u001b[KArray.cpp:70:0:\u001b[m\u001b[K \u001b[01;35m\u001b[Kwarning: \u001b[m\u001b[Kignoring #pragma omp parallel [\u001b[01;35m\u001b[K-Wunknown-pragmas\u001b[m\u001b[K]\n",
            " #pragma omp parallel for private(i)\n",
            " \n",
            "\u001b[01m\u001b[KArray.cpp:89:0:\u001b[m\u001b[K \u001b[01;35m\u001b[Kwarning: \u001b[m\u001b[Kignoring #pragma omp parallel [\u001b[01;35m\u001b[K-Wunknown-pragmas\u001b[m\u001b[K]\n",
            " #pragma omp parallel for private(i)\n",
            " \n",
            "\u001b[01m\u001b[KArray.cpp:102:0:\u001b[m\u001b[K \u001b[01;35m\u001b[Kwarning: \u001b[m\u001b[Kignoring #pragma omp parallel [\u001b[01;35m\u001b[K-Wunknown-pragmas\u001b[m\u001b[K]\n",
            " #pragma omp parallel for private(i)\n",
            " \n",
            "\u001b[01m\u001b[KArray.cpp:125:0:\u001b[m\u001b[K \u001b[01;35m\u001b[Kwarning: \u001b[m\u001b[Kignoring #pragma omp parallel [\u001b[01;35m\u001b[K-Wunknown-pragmas\u001b[m\u001b[K]\n",
            " #pragma omp parallel for private (i, j, k) reduction(+:sum)\n",
            " \n",
            "\u001b[01m\u001b[KArray.cpp:149:0:\u001b[m\u001b[K \u001b[01;35m\u001b[Kwarning: \u001b[m\u001b[Kignoring #pragma omp parallel [\u001b[01;35m\u001b[K-Wunknown-pragmas\u001b[m\u001b[K]\n",
            " #pragma omp parallel for private (i, j, k) reduction(+:sum)\n",
            " \n",
            "\u001b[01m\u001b[KArray.cpp:270:0:\u001b[m\u001b[K \u001b[01;35m\u001b[Kwarning: \u001b[m\u001b[Kignoring #pragma omp parallel [\u001b[01;35m\u001b[K-Wunknown-pragmas\u001b[m\u001b[K]\n",
            " #pragma omp parallel for private (i, j, k) reduction(+:sum)\n",
            " \n",
            "\u001b[01m\u001b[KArray.cpp:286:0:\u001b[m\u001b[K \u001b[01;35m\u001b[Kwarning: \u001b[m\u001b[Kignoring #pragma omp parallel [\u001b[01;35m\u001b[K-Wunknown-pragmas\u001b[m\u001b[K]\n",
            " #pragma omp parallel for private (i, j, k) reduction(+:sum)\n",
            " \n",
            "g++ -O3 --std=c++0x -g -Wall -fPIC -I\"/usr/include/python3.7\" -fmessage-length=0      -c -o Wavefunction.o Wavefunction.cpp\n",
            "\u001b[01m\u001b[KWavefunction.cpp:17:0:\u001b[m\u001b[K \u001b[01;35m\u001b[Kwarning: \u001b[m\u001b[Kignoring #pragma omp parallel [\u001b[01;35m\u001b[K-Wunknown-pragmas\u001b[m\u001b[K]\n",
            " #pragma omp parallel for private(i, re, im) reduction(+:norm)\n",
            " \n",
            "\u001b[01m\u001b[KWavefunction.cpp:39:0:\u001b[m\u001b[K \u001b[01;35m\u001b[Kwarning: \u001b[m\u001b[Kignoring #pragma omp parallel [\u001b[01;35m\u001b[K-Wunknown-pragmas\u001b[m\u001b[K]\n",
            " #pragma omp parallel for private(i)\n",
            " \n",
            "\u001b[01m\u001b[KWavefunction.cpp:85:0:\u001b[m\u001b[K \u001b[01;35m\u001b[Kwarning: \u001b[m\u001b[Kignoring #pragma omp parallel [\u001b[01;35m\u001b[K-Wunknown-pragmas\u001b[m\u001b[K]\n",
            " #pragma omp parallel for private(i, j, k)\n",
            " \n",
            "\u001b[01m\u001b[KWavefunction.cpp:94:0:\u001b[m\u001b[K \u001b[01;35m\u001b[Kwarning: \u001b[m\u001b[Kignoring #pragma omp parallel [\u001b[01;35m\u001b[K-Wunknown-pragmas\u001b[m\u001b[K]\n",
            " #pragma omp parallel for private(i, j, k, i2, j2, k2)\n",
            " \n",
            "\u001b[01m\u001b[KWavefunction.cpp:116:0:\u001b[m\u001b[K \u001b[01;35m\u001b[Kwarning: \u001b[m\u001b[Kignoring #pragma omp parallel [\u001b[01;35m\u001b[K-Wunknown-pragmas\u001b[m\u001b[K]\n",
            " #pragma omp parallel for private(i)\n",
            " \n",
            "\u001b[01m\u001b[KWavefunction.cpp:140:0:\u001b[m\u001b[K \u001b[01;35m\u001b[Kwarning: \u001b[m\u001b[Kignoring #pragma omp parallel [\u001b[01;35m\u001b[K-Wunknown-pragmas\u001b[m\u001b[K]\n",
            " #pragma omp parallel for private(i)\n",
            " \n",
            "\u001b[01m\u001b[KWavefunction.cpp:172:0:\u001b[m\u001b[K \u001b[01;35m\u001b[Kwarning: \u001b[m\u001b[Kignoring #pragma omp parallel [\u001b[01;35m\u001b[K-Wunknown-pragmas\u001b[m\u001b[K]\n",
            " #pragma omp parallel for private(i)\n",
            " \n",
            "\u001b[01m\u001b[KWavefunction.cpp:189:0:\u001b[m\u001b[K \u001b[01;35m\u001b[Kwarning: \u001b[m\u001b[Kignoring #pragma omp parallel [\u001b[01;35m\u001b[K-Wunknown-pragmas\u001b[m\u001b[K]\n",
            " #pragma omp parallel for private(i, re, im)\n",
            " \n",
            "g++ -O3 --std=c++0x -g -Wall -fPIC -I\"/usr/include/python3.7\" -fmessage-length=0      -c -o PotentialDipolar.o PotentialDipolar.cpp\n",
            "g++ -O3 --std=c++0x -g -Wall -fPIC -I\"/usr/include/python3.7\" -fmessage-length=0      -c -o PotentialKinetic.o PotentialKinetic.cpp\n",
            "g++ -O3 --std=c++0x -g -Wall -fPIC -I\"/usr/include/python3.7\" -fmessage-length=0      -c -o PotentialHarmonic.o PotentialHarmonic.cpp\n",
            "g++ -O3 --std=c++0x -g -Wall -fPIC -I\"/usr/include/python3.7\" -fmessage-length=0      -c -o PotentialLattice.o PotentialLattice.cpp\n",
            "g++ -O3 --std=c++0x -g -Wall -fPIC -I\"/usr/include/python3.7\" -fmessage-length=0      -c -o WavefunctionGaussian.o WavefunctionGaussian.cpp\n",
            "g++ -O3 --std=c++0x -g -Wall -fPIC -I\"/usr/include/python3.7\" -fmessage-length=0      -c -o Simulation.o Simulation.cpp\n",
            "g++ -o gpepython.so GPEPython.o SimulationParameters.o Field.o Array.o Wavefunction.o PotentialDipolar.o PotentialKinetic.o PotentialHarmonic.o PotentialLattice.o WavefunctionGaussian.o Simulation.o -lfftw3_threads -lfftw3 -lm   -Wl,-h -Wl,gpepython.so -shared -Wl,--start-group -Wl,-Bstatic  -Wl,-Bdynamic -lboost_python3 -lutil -lpthread -ldl -Wl,--end-group\n",
            "Ready.\n"
          ]
        }
      ]
    },
    {
      "cell_type": "code",
      "metadata": {
        "colab": {
          "base_uri": "https://localhost:8080/"
        },
        "id": "LXvrHocCLK8h",
        "outputId": "eabb8e62-4cde-4f6a-9e20-5409ba22f418"
      },
      "source": [
        "drive.mount('/content/drive')"
      ],
      "execution_count": 3,
      "outputs": [
        {
          "output_type": "stream",
          "name": "stdout",
          "text": [
            "Mounted at /content/drive\n"
          ]
        }
      ]
    },
    {
      "cell_type": "code",
      "metadata": {
        "id": "GUKuQ0nqKRiu"
      },
      "source": [
        "#Makefile compiles, trying to get example working..."
      ],
      "execution_count": 18,
      "outputs": []
    },
    {
      "cell_type": "markdown",
      "metadata": {
        "id": "VDx_sdylKidJ"
      },
      "source": [
        "Running a simple example"
      ]
    },
    {
      "cell_type": "code",
      "metadata": {
        "colab": {
          "base_uri": "https://localhost:8080/"
        },
        "id": "SFOSEMfGa4RT",
        "outputId": "1765cc0a-a739-4cd0-fac1-e8c65516f8d6"
      },
      "source": [
        "#%cd ../content/GPE-Solver/\n",
        "%cd ../content/GPE-Solver"
      ],
      "execution_count": 11,
      "outputs": [
        {
          "output_type": "stream",
          "name": "stdout",
          "text": [
            "/content/GPE-Solver\n"
          ]
        }
      ]
    },
    {
      "cell_type": "code",
      "metadata": {
        "colab": {
          "base_uri": "https://localhost:8080/"
        },
        "id": "N8pZsBhca4Ta",
        "outputId": "f6025261-3b98-4003-fddf-f758a3f242a6"
      },
      "source": [
        "print('Harmonic trap imaginary time evolution')\n",
        "print('')\n",
        "print('Time             Total Energy    Kin. Energy    Pot. Energy    Contact Energy    Dipolar Energy    Virial')\n",
        "\n",
        "#!python simple.py\n",
        "!python simple.py | awk '{print $7}' #take a column"
      ],
      "execution_count": 14,
      "outputs": [
        {
          "output_type": "stream",
          "name": "stdout",
          "text": [
            "Harmonic trap imaginary time evolution\n",
            "\n",
            "Time             Total Energy    Kin. Energy    Pot. Energy    Contact Energy    Dipolar Energy    Virial\n",
            "1.196826841\n",
            "0.294220685\n",
            "0.088461874\n",
            "0.028357825\n",
            "0.010269524\n",
            "0.004787792\n",
            "0.003122725\n",
            "0.002616523\n",
            "0.002462577\n",
            "0.002415753\n",
            "0.002401511\n",
            "0.002397178\n",
            "0.002395860\n",
            "0.002395460\n",
            "0.002395338\n",
            "0.002395301\n",
            "0.002395289\n",
            "0.002395286\n",
            "0.002395285\n",
            "0.002395284\n",
            "0.002395284\n"
          ]
        }
      ]
    },
    {
      "cell_type": "code",
      "metadata": {
        "id": "b9XNr9Hj7qN2"
      },
      "source": [
        "#Data analysis to compare with fig 6.1\n",
        "\n",
        "t=[0,500,1000,1500,2000,2500,3000,3500,4000,4500,5000,5500,6000,6500,7000,7500,8000,8500,9000,9500,10000]\n",
        "E=[1.898942280,1.816250722,1.811681161,1.811266001,1.811224288,1.811219385,1.811218615,1.811218447,1.811218402,1.811218389,1.811218385,1.811218384,1.811218384,1.811218384,1.811218384,1.811218384,1.811218384,1.811218384,1.811218384,1.811218384,1.811218384]\n",
        "K=[0.750000000,0.629186640,0.600273898,0.591656794,0.589042495,0.588247365,0.588005458,0.587931865,0.587909478,0.587902667,0.587900596,0.587899966,0.587899774,0.587899716,0.587899698,0.587899692,0.587899691,0.587899690,0.587899690,0.587899690,0.587899690]\n",
        "U=[0.750000000,0.905068968,0.949261542,0.962756677,0.966872169,0.968124600,0.968505532,0.968621391,0.968656630,0.968667349,0.968670610,0.968671602,0.968671903,0.968671995,0.968672023,0.968672032,0.968672034,0.968672035,0.968672035,0.968672035,0.968672035]\n",
        "C=[0.398942280,0.281995114,0.262145721,0.256852530,0.255309624,0.254847421,0.254707624,0.254665191,0.254652294,0.254648373,0.254647180,0.254646817,0.254646706,0.254646673,0.254646663,0.254646660,0.254646659,0.254646658,0.254646658,0.254646658,0.254646658]\n",
        "D=[0,0,0,0,0,0,0,0,0,0,0,0,0,0,0,0,0,0,0,0,0]\n",
        "V=[1.196826841,0.294220685,0.088461874,0.028357825,0.010269524,0.004787792,0.003122725,0.002616523,0.002462577,0.002415753,0.002401511,0.002397178,0.002395860,0.002395460,0.002395338,0.002395301,0.002395289,0.002395286,0.002395285,0.002395284,0.002395284]\n",
        "\n",
        "\n"
      ],
      "execution_count": 51,
      "outputs": []
    },
    {
      "cell_type": "code",
      "metadata": {
        "colab": {
          "base_uri": "https://localhost:8080/",
          "height": 295
        },
        "id": "MYxVINa6BZ_C",
        "outputId": "b7a5d7fd-ad70-453a-fae2-63b539fb6d37"
      },
      "source": [
        "plt.plot(np.array(t),V)\n",
        "plt.yscale(\"log\")\n",
        "plt.grid()\n",
        "plt.xlabel('evolution steps')\n",
        "plt.ylabel('Virial energy')\n",
        "plt.title('Imaginary time evolution')\n",
        "plt.xlim([0,4500])\n",
        "plt.show();"
      ],
      "execution_count": 65,
      "outputs": [
        {
          "output_type": "display_data",
          "data": {
            "image/png": "[encoded data removed]",
            "text/plain": [
              "<Figure size 432x288 with 1 Axes>"
            ]
          },
          "metadata": {
            "needs_background": "light"
          }
        }
      ]
    },
    {
      "cell_type": "code",
      "metadata": {
        "id": "6jGZQ1J19EBV"
      },
      "source": [
        "# This also spits out density cuts in a mat file!"
      ],
      "execution_count": null,
      "outputs": []
    },
    {
      "cell_type": "code",
      "metadata": {
        "colab": {
          "base_uri": "https://localhost:8080/"
        },
        "id": "q2paTGRi9EZk",
        "outputId": "bc0ce3f4-1b82-4d14-bda3-20079f755a5f"
      },
      "source": [
        "# Running a lattice sim\n",
        "print('2-site lattice imaginary time evolution')\n",
        "print('')\n",
        "print('Time             Total Energy    Kin. Energy    Pot. Energy    Contact Energy    Dipolar Energy    Virial')\n",
        "\n",
        "!python lattice.py\n"
      ],
      "execution_count": 12,
      "outputs": [
        {
          "output_type": "stream",
          "name": "stdout",
          "text": [
            "Harmonic trap imaginary time evolution\n",
            "\n",
            "Time             Total Energy    Kin. Energy    Pot. Energy    Contact Energy    Dipolar Energy    Virial\n",
            "00000000\t 11.533624561\t 18.582988145\t-39.645975092\t 23.788297883\t 8.808313625\t 214.247760998\n",
            "00000500\t-21.181317605\t 9.677101161\t-38.783844448\t 9.854226313\t-1.928800631\t 120.698168263\n",
            "00001000\t-21.181317891\t 9.676872982\t-38.783352930\t 9.853987301\t-1.928825245\t 120.695937995\n",
            "00001500\t-21.181317891\t 9.676872803\t-38.783352576\t 9.853987124\t-1.928825243\t 120.695936402\n",
            "00002000\t-21.181317891\t 9.676872803\t-38.783352576\t 9.853987124\t-1.928825243\t 120.695936401\n",
            "00002500\t-21.181317891\t 9.676872803\t-38.783352576\t 9.853987124\t-1.928825243\t 120.695936401\n",
            "00003000\t-21.181317891\t 9.676872803\t-38.783352576\t 9.853987124\t-1.928825243\t 120.695936401\n",
            "00003500\t-21.181317891\t 9.676872803\t-38.783352576\t 9.853987124\t-1.928825243\t 120.695936401\n",
            "00004000\t-21.181317891\t 9.676872803\t-38.783352576\t 9.853987124\t-1.928825243\t 120.695936401\n",
            "00004500\t-21.181317891\t 9.676872803\t-38.783352576\t 9.853987124\t-1.928825243\t 120.695936401\n",
            "00005000\t-21.181317891\t 9.676872803\t-38.783352576\t 9.853987124\t-1.928825243\t 120.695936401\n",
            "00005500\t-21.181317891\t 9.676872803\t-38.783352576\t 9.853987124\t-1.928825243\t 120.695936401\n",
            "00006000\t-21.181317891\t 9.676872803\t-38.783352576\t 9.853987124\t-1.928825243\t 120.695936401\n",
            "00006500\t-21.181317891\t 9.676872803\t-38.783352576\t 9.853987124\t-1.928825243\t 120.695936401\n",
            "00007000\t-21.181317891\t 9.676872803\t-38.783352576\t 9.853987124\t-1.928825243\t 120.695936401\n",
            "00007500\t-21.181317891\t 9.676872803\t-38.783352576\t 9.853987124\t-1.928825243\t 120.695936401\n",
            "00008000\t-21.181317891\t 9.676872803\t-38.783352576\t 9.853987124\t-1.928825243\t 120.695936401\n",
            "00008500\t-21.181317891\t 9.676872803\t-38.783352576\t 9.853987124\t-1.928825243\t 120.695936401\n",
            "00009000\t-21.181317891\t 9.676872803\t-38.783352576\t 9.853987124\t-1.928825243\t 120.695936401\n",
            "00009500\t-21.181317891\t 9.676872803\t-38.783352576\t 9.853987124\t-1.928825243\t 120.695936401\n",
            "00010000\t-21.181317891\t 9.676872803\t-38.783352576\t 9.853987124\t-1.928825243\t 120.695936401\n"
          ]
        }
      ]
    },
    {
      "cell_type": "code",
      "metadata": {
        "id": "W8F1q_EQzMUC"
      },
      "source": [
        ""
      ],
      "execution_count": null,
      "outputs": []
    },
    {
      "cell_type": "markdown",
      "metadata": {
        "id": "qFnjyG3Ha4xi"
      },
      "source": [
        "Example contact interaction spectral method. https://github.com/brownjm/gpe"
      ]
    },
    {
      "cell_type": "code",
      "metadata": {
        "colab": {
          "base_uri": "https://localhost:8080/",
          "height": 751
        },
        "id": "cOmgrj4PSefy",
        "outputId": "883ca137-44ab-4179-b1ef-7965ef1ef2c6"
      },
      "source": [
        "\"\"\"Spectral method for evolving GPE for BEC's\"\"\"\n",
        "\n",
        "from numpy import exp, pi, arange, meshgrid, sqrt, linspace\n",
        "from numpy.fft import fft2, ifft2, fftshift\n",
        "import matplotlib\n",
        "import matplotlib.pyplot as plt\n",
        "from matplotlib import animation\n",
        "\n",
        "matplotlib.rcParams['figure.dpi'] = 200\n",
        "\n",
        "from matplotlib import rc\n",
        "rc('animation', html='jshtml')\n",
        "\n",
        "class QHO:\n",
        "    \"\"\"Quantum harmonic oscillator wavefunctions\"\"\"\n",
        "    def __init__(self, n, xshift=0, yshift=0):\n",
        "        self.n = n\n",
        "        self.xshift = xshift\n",
        "        self.yshift = yshift\n",
        "        self.E = n + 0.5\n",
        "        self.coef = 1 / sqrt(2**n * factorial(n)) * (1 / pi)**(1/4)\n",
        "        self.hermite = hermite(n)\n",
        "\n",
        "    def __call__(self, x, y, t):\n",
        "        xs = x - self.xshift\n",
        "        ys = y - self.yshift\n",
        "        return self.coef * exp(-(xs**2 + ys**2) / 2 - 1j*self.E*t) * self.hermite(x) * self.hermite(y)\n",
        "\n",
        "\n",
        "class Simulation:\n",
        "    \"\"\"Simulation to step wavefunction forward in time from the given parameters\n",
        "xmax : maximum extent of boundary\n",
        "N    : number of spatial points\n",
        "init : initial wavefunction\n",
        "nonlinearity : factor in front of |psi^2| term\n",
        "\"\"\"\n",
        "    def __init__(self, parameters):\n",
        "        self.parameters = parameters\n",
        "\n",
        "        # set up spatial dimensions\n",
        "        xmax = parameters['xmax']\n",
        "        self.xmax = xmax\n",
        "        N = parameters['N']\n",
        "        v = linspace(-xmax, xmax, N)\n",
        "        self.dx = v[1] - v[0]\n",
        "        self.x, self.y = meshgrid(v, v)\n",
        "\n",
        "        # spectral space\n",
        "        kmax = 2*pi / self.dx\n",
        "        dk = kmax / N\n",
        "        self.k = fftshift((arange(N)-N/2) * dk)\n",
        "        kx, ky = meshgrid(self.k, self.k)\n",
        "\n",
        "        # time\n",
        "        self.steps = 0\n",
        "        self.time = 0\n",
        "        self.dt = self.dx**2 / 4\n",
        "\n",
        "        # wavefunction\n",
        "        init_func = parameters['initial']\n",
        "        self.wf = init_func(self.x, self.y, 0)\n",
        "        self.wf /= sqrt(self.norm().sum() * self.dx**2) # normalize\n",
        "\n",
        "        # Hamiltonian operators\n",
        "        self.loss = 1 - 1j*parameters['loss']\n",
        "        self.T = exp(-1j * self.loss * (kx**2 + ky**2) * self.dt / 2)\n",
        "        self.V = exp(-1j * self.loss * (self.x**2 + self.y**2) * self.dt / 2)\n",
        "        self.eta = parameters['nonlinearity']\n",
        "\n",
        "\n",
        "    def evolve(self, time):\n",
        "        \"\"\"Evolve the wavefunction to the given time in the future\"\"\"\n",
        "        steps = int(time / self.dt)\n",
        "        if steps == 0:\n",
        "            steps = 1 # guarantee at least 1 step\n",
        "\n",
        "        for _ in range(steps):\n",
        "            #self.linear_step()\n",
        "            self.nonlinear_step()\n",
        "            if self.loss:\n",
        "                N = self.norm().sum()*self.dx**2\n",
        "                self.wf /= N\n",
        "\n",
        "        self.update_time(steps)\n",
        "\n",
        "        \n",
        "    def linear_step(self):\n",
        "        \"\"\"Make one linear step dt forward in time\"\"\"\n",
        "        # kinetic\n",
        "        self.wf[:] = fft2(ifft2(self.wf) * self.T)\n",
        "\n",
        "        # potential\n",
        "        self.wf *= self.V\n",
        "\n",
        "\n",
        "    def nonlinear_step(self):\n",
        "        \"\"\"Make one nonlinear step dt forward in time\"\"\"\n",
        "        # linear step\n",
        "        self.linear_step()\n",
        "\n",
        "        # nonlinear\n",
        "        self.wf *= exp(-1j * self.loss * self.eta * abs(self.wf)**2 * self.dt)\n",
        "\n",
        "\n",
        "    def update_time(self, steps):\n",
        "        \"\"\"Increment time by steps taken\"\"\"\n",
        "        self.steps += steps\n",
        "        self.time = self.steps * self.dt\n",
        "\n",
        "    def norm(self):\n",
        "        return abs(self.wf)**2\n",
        "\n",
        "\n",
        "    def show(self):\n",
        "        \"\"\"Show the current norm of the wavefunction\"\"\"\n",
        "        fig, ax = plt.subplots()\n",
        "        ax.imshow(self.norm(), cmap=plt.cm.hot)\n",
        "        plt.show()\n",
        "\n",
        "\n",
        "\n",
        "def animate(simulation, time, interval=100):\n",
        "    \"\"\"Display an animation of the simulation\"\"\"\n",
        "    fig, ax = plt.subplots()\n",
        "    L = simulation.xmax\n",
        "    norm = ax.imshow(simulation.norm(), extent=(-L, L, -L, L), cmap=plt.cm.hot)\n",
        "\n",
        "    def update(i):\n",
        "        simulation.evolve(time / interval)\n",
        "        N = simulation.norm()\n",
        "        norm.set_data(N)\n",
        "        ax.set_title('T = {:3.2f}, N = {:1.6f}'.format(simulation.time, N.sum()*simulation.dx**2))\n",
        "\n",
        "    anim = animation.FuncAnimation(fig, update, interval=10)\n",
        "    plt.show()\n",
        "\n",
        "\n",
        "    \n",
        "\n",
        "params = {'N': 100,\n",
        "              'xmax': 5,\n",
        "              'nonlinearity': 4,\n",
        "              'initial': QHO(n=0, xshift=0.0), # GaussianWavepacket(1, 5, -4),\n",
        "              'loss': 0.0,\n",
        "              }\n",
        "\n",
        "sim = Simulation(params)\n",
        "animate(sim,2800)"
      ],
      "execution_count": 51,
      "outputs": [
        {
          "output_type": "display_data",
          "data": {
            "image/png": "[encoded data removed]",
            "text/plain": [
              "<Figure size 1200x800 with 1 Axes>"
            ]
          },
          "metadata": {
            "needs_background": "light"
          }
        }
      ]
    },
    {
      "cell_type": "code",
      "metadata": {
        "id": "a3EbUXg1TDQK"
      },
      "source": [
        "sim.evolve(1)"
      ],
      "execution_count": 53,
      "outputs": []
    },
    {
      "cell_type": "code",
      "metadata": {
        "id": "NnhhsBxYamSQ"
      },
      "source": [
        ""
      ],
      "execution_count": null,
      "outputs": []
    }
  ]
}